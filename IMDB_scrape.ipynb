{
 "cells": [
  {
   "cell_type": "markdown",
   "metadata": {},
   "source": [
    "### BeautifulSoup web-scraping code for IMDB TV show data"
   ]
  },
  {
   "cell_type": "code",
   "execution_count": 13,
   "metadata": {
    "ExecuteTime": {
     "end_time": "2018-02-09T15:36:48.311856Z",
     "start_time": "2018-02-09T15:36:48.305257Z"
    }
   },
   "outputs": [],
   "source": [
    "import requests\n",
    "from bs4 import BeautifulSoup\n",
    "import pandas as pd\n",
    "import numpy as np\n",
    "import pickle"
   ]
  },
  {
   "cell_type": "code",
   "execution_count": 2,
   "metadata": {
    "ExecuteTime": {
     "end_time": "2018-02-09T15:29:56.883519Z",
     "start_time": "2018-02-09T15:29:56.863419Z"
    }
   },
   "outputs": [],
   "source": [
    "# Pull URLs with TV shows on IMDB\n",
    "url_pg1 = 'http://www.imdb.com/list/ls025735713/?start=1&view=compact&sort=title:asc&defaults=1&lists=ls025735713'\n",
    "url_pg2 = 'http://www.imdb.com/list/ls025735713/?start=251&view=compact&sort=title:asc&defaults=1&lists=ls025735713&scb=0.7965505908492163'"
   ]
  },
  {
   "cell_type": "code",
   "execution_count": 3,
   "metadata": {
    "ExecuteTime": {
     "end_time": "2018-02-09T15:29:57.931347Z",
     "start_time": "2018-02-09T15:29:57.926955Z"
    }
   },
   "outputs": [],
   "source": [
    "urls = [url_pg2, url_pg1]"
   ]
  },
  {
   "cell_type": "code",
   "execution_count": 8,
   "metadata": {
    "ExecuteTime": {
     "end_time": "2018-02-09T15:32:12.331670Z",
     "start_time": "2018-02-09T15:32:12.291877Z"
    }
   },
   "outputs": [],
   "source": [
    "# Scrape function to capture IMDB data for shows using BeautifulSoup\n",
    "def get_imdb_info(table_rows):\n",
    "    response = requests.get(url)\n",
    "    page = response.text\n",
    "    soup = BeautifulSoup(page, 'lxml')\n",
    "    table = soup.find_all('table')\n",
    "    table_rows = [row for row in table[0].find_all('tr')]\n",
    "    imdb_info = []\n",
    "    for row in table_rows[1:]:\n",
    "        one_show = {\n",
    "            \"title\": row.find(\"a\").text,\n",
    "            \"premiere_year\": row.find(class_=\"year\").text,\n",
    "            \"user_rating\": row.find(class_=\"user_rating\").text,\n",
    "            \"num_votes\": row.find(class_=\"num_votes\").text\n",
    "        }\n",
    "        print(one_show)\n",
    "        imdb_info.append(one_show)\n",
    "    return imdb_info"
   ]
  },
  {
   "cell_type": "code",
   "execution_count": 12,
   "metadata": {
    "ExecuteTime": {
     "end_time": "2018-02-09T15:34:29.840485Z",
     "start_time": "2018-02-09T15:34:29.836680Z"
    },
    "scrolled": true
   },
   "outputs": [],
   "source": [
    "# Run function on sites\n",
    "all_imdb_info = []\n",
    "for url in urls:\n",
    "    all_imdb_info += get_imdb_info(url)"
   ]
  },
  {
   "cell_type": "code",
   "execution_count": 25,
   "metadata": {
    "scrolled": false
   },
   "outputs": [
    {
     "data": {
      "text/plain": [
       "[{'num_votes': '139,850',\n",
       "  'premiere_year': '2011',\n",
       "  'title': 'Person of Interest',\n",
       "  'user_rating': '8.5'},\n",
       " {'num_votes': '23,732',\n",
       "  'premiere_year': '2007',\n",
       "  'title': 'Phineas and Ferb',\n",
       "  'user_rating': '8.0'},\n",
       " {'num_votes': '4,614',\n",
       "  'premiere_year': '2016',\n",
       "  'title': 'Pitch',\n",
       "  'user_rating': '7.4'},\n",
       " {'num_votes': '4,844',\n",
       "  'premiere_year': '2017',\n",
       "  'title': 'Powerless',\n",
       "  'user_rating': '6.4'},\n",
       " {'num_votes': '130,585',\n",
       "  'premiere_year': '2010',\n",
       "  'title': 'Pretty Little Liars',\n",
       "  'user_rating': '7.6'}]"
      ]
     },
     "execution_count": 25,
     "metadata": {},
     "output_type": "execute_result"
    }
   ],
   "source": [
    "# Sample of Data scraped\n",
    "all_imdb_info[0:5]"
   ]
  },
  {
   "cell_type": "code",
   "execution_count": 26,
   "metadata": {
    "collapsed": true
   },
   "outputs": [],
   "source": [
    "# Save data into pickle file for use in modeling workbook\n",
    "with open('imdb_2.pkl', 'wb') as picklefile:\n",
    "    pickle.dump(all_imdb_info, picklefile)"
   ]
  }
 ],
 "metadata": {
  "kernelspec": {
   "display_name": "Python 3",
   "language": "python",
   "name": "python3"
  },
  "language_info": {
   "codemirror_mode": {
    "name": "ipython",
    "version": 3
   },
   "file_extension": ".py",
   "mimetype": "text/x-python",
   "name": "python",
   "nbconvert_exporter": "python",
   "pygments_lexer": "ipython3",
   "version": "3.6.2"
  }
 },
 "nbformat": 4,
 "nbformat_minor": 2
}
