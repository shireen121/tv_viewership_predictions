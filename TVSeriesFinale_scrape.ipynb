{
 "cells": [
  {
   "cell_type": "code",
   "execution_count": 4,
   "metadata": {
    "collapsed": true
   },
   "outputs": [],
   "source": [
    "import requests\n",
    "from bs4 import BeautifulSoup\n",
    "import pandas as pd\n",
    "import numpy as np\n",
    "import pickle"
   ]
  },
  {
   "cell_type": "code",
   "execution_count": 1,
   "metadata": {
    "ExecuteTime": {
     "end_time": "2018-02-09T15:25:57.974964Z",
     "start_time": "2018-02-09T15:25:57.964957Z"
    }
   },
   "outputs": [],
   "source": [
    "# Pull links for Nielsen ratings for 2014-17\n",
    "url_17 = 'https://docs.google.com/spreadsheets/d/1ToHTY-SGH1wLEo31kKz9TOE5PsdpBE20kqtr1BhJBVA/pubhtml/sheet?headers=false&gid=141071556&range=A1%3AG100'\n",
    "url_16 = 'https://docs.google.com/spreadsheets/d/1fDDhVVuLxhWiZYf0rhHouQreu36bCgk6gBcUzJONvaw/pubhtml/sheet?headers=false&gid=199072466&range=A1%3AG100'\n",
    "url_15 = 'https://docs.google.com/spreadsheets/d/1pH5Y9hpycrTjdNptz38lM36nae-vswX7EwVAsSrBwfA/pubhtml/sheet?headers=false&gid=24&range=A1:G120'\n",
    "url_14 = 'https://docs.google.com/spreadsheets/d/15w78kvpAodRlJ2ZO7eXI-oeRu1iROQjHhTW1Ha5GIHo/pubhtml/sheet?headers=false&gid=24&range=A1%3AG57&output=html&rm=minimal'"
   ]
  },
  {
   "cell_type": "code",
   "execution_count": 32,
   "metadata": {
    "collapsed": true
   },
   "outputs": [],
   "source": [
    "urls = [url_16, url_15, url_14]"
   ]
  },
  {
   "cell_type": "code",
   "execution_count": 45,
   "metadata": {
    "collapsed": true
   },
   "outputs": [],
   "source": [
    "# Function to scrape Nielsen data using BeautifulSoup\n",
    "def get_shows(url):\n",
    "    response = requests.get(url)\n",
    "    page = response.text\n",
    "    soup = BeautifulSoup(page, \"html5lib\")\n",
    "    big_table = soup.find(name=\"table\", attrs={\"class\":\"waffle\"})\n",
    "    table_body = big_table.find(\"tbody\")\n",
    "    table_rows = table_body.find_all(\"tr\")\n",
    "    all_rows = []\n",
    "    for tr in table_rows:\n",
    "        if len(tr.find_all(\"td\")) > 2:\n",
    "            all_rows.append(tr.find_all(\"td\"))\n",
    "        \n",
    "    shows=[]\n",
    "    for row in all_rows:\n",
    "        if row[1].find('a'):\n",
    "            one_show = {\n",
    "                \"title\": row[1],\n",
    "                \"network\": row[2],\n",
    "                \"viewers_millions\": row[5],\n",
    "                \"demo_rating\": row[3],\n",
    "                \"demo_yoy\": row[4],\n",
    "                \"viewers_yoy\": row[6],\n",
    "                \"status_year\" : soup.find(\"title\").text.split(' ')[0].strip()\n",
    "            }\n",
    "            shows.append(one_show)\n",
    "    for each in shows:\n",
    "        for key, value in each.items():\n",
    "            if value != None and key != \"status_year\":\n",
    "                each[key] = value.text\n",
    "    return shows\n",
    "\n"
   ]
  },
  {
   "cell_type": "code",
   "execution_count": 46,
   "metadata": {
    "collapsed": true,
    "scrolled": true
   },
   "outputs": [],
   "source": [
    "# Specifying episodes to pull for 2017 scrape to avoid duplicates\n",
    "shows_17 = get_shows(url_17)[0:193]"
   ]
  },
  {
   "cell_type": "code",
   "execution_count": 47,
   "metadata": {
    "collapsed": true
   },
   "outputs": [],
   "source": [
    "# Run scrape function for remaining years\n",
    "all_shows = []\n",
    "for url in urls:\n",
    "    all_shows += get_shows(url)\n"
   ]
  },
  {
   "cell_type": "code",
   "execution_count": 48,
   "metadata": {
    "collapsed": true
   },
   "outputs": [],
   "source": [
    "# Combine all scraped data\n",
    "all_shows = all_shows + shows_17"
   ]
  },
  {
   "cell_type": "code",
   "execution_count": 49,
   "metadata": {
    "collapsed": true
   },
   "outputs": [],
   "source": [
    "# Save data in pickle file for use in modeling workbook\n",
    "with open('tvseries_data_2.pkl', 'wb') as picklefile:\n",
    "    pickle.dump(all_shows, picklefile)"
   ]
  }
 ],
 "metadata": {
  "kernelspec": {
   "display_name": "Python 3",
   "language": "python",
   "name": "python3"
  },
  "language_info": {
   "codemirror_mode": {
    "name": "ipython",
    "version": 3
   },
   "file_extension": ".py",
   "mimetype": "text/x-python",
   "name": "python",
   "nbconvert_exporter": "python",
   "pygments_lexer": "ipython3",
   "version": "3.6.2"
  }
 },
 "nbformat": 4,
 "nbformat_minor": 2
}
